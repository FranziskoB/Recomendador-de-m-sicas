{
 "cells": [
  {
   "cell_type": "code",
   "execution_count": 2,
   "id": "7b572843",
   "metadata": {},
   "outputs": [],
   "source": [
    "import sys\n",
    "import spotipy\n",
    "import spotipy.util as util\n"
   ]
  },
  {
   "cell_type": "code",
   "execution_count": 3,
   "id": "874a00b6",
   "metadata": {},
   "outputs": [],
   "source": [
    "username = 'Franzisko'\n",
    "scope = 'user-library-read playlist-modify-private'"
   ]
  },
  {
   "cell_type": "code",
   "execution_count": 33,
   "id": "764f22dc",
   "metadata": {},
   "outputs": [],
   "source": [
    "#É necessário se cadastrar no spotify para obter os dados de acesso a API\n",
    "token = util.prompt_for_user_token(username,\n",
    "                                   scope,\n",
    "                                   client_id=' ',\n",
    "                                   client_secret=' ',\n",
    "                                   redirect_uri='http://localhost:8080/callback')"
   ]
  },
  {
   "cell_type": "code",
   "execution_count": 34,
   "id": "f4ab4d17",
   "metadata": {},
   "outputs": [],
   "source": [
    "offset = 0\n",
    "songs = []\n",
    "items = []\n",
    "ids = []"
   ]
  },
  {
   "cell_type": "code",
   "execution_count": 35,
   "id": "a32b588d",
   "metadata": {},
   "outputs": [],
   "source": [
    "def getTrackFeatures(ids,artist_uri): # Obtendo as features\n",
    "  meta = sp.track(ids)\n",
    "  features = sp.audio_features(ids)\n",
    "  artist_info = sp.artist(artist_uri)\n",
    "\n",
    "  # meta\n",
    "  name = meta['name']\n",
    "  album = meta['album']['name']\n",
    "  artist = meta['album']['artists'][0]['name']\n",
    "  release_date = meta['album']['release_date']\n",
    "  duration_ms = meta['duration_ms']\n",
    "  popularity = meta['popularity']\n",
    "    \n",
    "  # Artist \n",
    "  artist_pop = artist_info['popularity']\n",
    "  artist_genres = artist_info['genres']\n",
    "    \n",
    "  # features\n",
    "  acousticness = features[0]['acousticness']\n",
    "  danceability = features[0]['danceability']\n",
    "  energy = features[0]['energy']\n",
    "  instrumentalness = features[0]['instrumentalness']\n",
    "  liveness = features[0]['liveness']\n",
    "  loudness = features[0]['loudness']\n",
    "  speechiness = features[0]['speechiness']\n",
    "  tempo = features[0]['tempo']\n",
    "  time_signature = features[0]['time_signature']\n",
    "\n",
    "  track = [ids, name, album, artist, artist_genres, release_date,artist_pop , duration_ms, popularity, acousticness, danceability, energy, instrumentalness, liveness, loudness, speechiness, tempo, time_signature]\n",
    "  return track"
   ]
  },
  {
   "cell_type": "code",
   "execution_count": 36,
   "id": "0f615f24",
   "metadata": {},
   "outputs": [],
   "source": [
    "if token:\n",
    "    sp = spotipy.Spotify(auth=token)\n",
    "    sp.trace = False\n",
    "    while True: #Obtendo as informações de cada música\n",
    "        content = sp.current_user_saved_tracks(limit=50, offset=offset)\n",
    "        songs += content['items']\n",
    "        if content['next'] is not None:\n",
    "            offset += 100\n",
    "        else:\n",
    "            break\n",
    "            \n",
    "    for i in songs: # Obtendo os ids da músicas\n",
    "        ids.append(i['track']['id'])\n",
    "    \n",
    "    artist=[]\n",
    "    for i in songs: # Obtendo os ids das bandas/cantores\n",
    "        artist.append(i['track']['artists'][0]['uri'])\n",
    "    import time\n",
    "\n",
    "    tracks = []\n",
    "    for i in range(len(ids)):\n",
    "        #time.sleep(.5)\n",
    "        track = getTrackFeatures(ids[i],artist[i])# Crindo o dataset com as caracteristicas de cada música\n",
    "        tracks.append(track)\n",
    "else:\n",
    "    print(\"Can't get token for\", username)\n"
   ]
  },
  {
   "cell_type": "code",
   "execution_count": 38,
   "id": "09d814e5",
   "metadata": {},
   "outputs": [],
   "source": [
    "# Salvando em arquivo CSV\n",
    "import pandas as pd\n",
    "df = pd.DataFrame(tracks, columns = ['Id','Nome', 'album', 'Banda', 'Genero', 'Data_lancamento','Popularidade_Banda', 'Duracao', 'Popularidade', 'acustica', 'dancabilidade', 'energia', 'Instrumentalidade', 'vivacidade', 'Volume', 'speechiness', 'tempo', 'time_signature'])\n",
    "df.to_csv(\"spotify.csv\", sep = ',')"
   ]
  }
 ],
 "metadata": {
  "kernelspec": {
   "display_name": "Python 3 (ipykernel)",
   "language": "python",
   "name": "python3"
  },
  "language_info": {
   "codemirror_mode": {
    "name": "ipython",
    "version": 3
   },
   "file_extension": ".py",
   "mimetype": "text/x-python",
   "name": "python",
   "nbconvert_exporter": "python",
   "pygments_lexer": "ipython3",
   "version": "3.9.13"
  }
 },
 "nbformat": 4,
 "nbformat_minor": 5
}
